{
 "cells": [
  {
   "cell_type": "markdown",
   "id": "16f855cb",
   "metadata": {},
   "source": [
    "# <b><h1 style=\"text-align:center;\">Text Categorization</h1></b>\n",
    "![Text Categorization](image_text_classification.png) "
   ]
  },
  {
   "cell_type": "code",
   "execution_count": 1,
   "id": "ace09b7b",
   "metadata": {},
   "outputs": [],
   "source": [
    "\n",
    "import pandas as pd\n",
    "import spacy\n",
    "from spacy.language import Language\n",
    "\n",
    "from sklearn.feature_extraction.text import TfidfVectorizer\n",
    "from sklearn.model_selection import train_test_split\n",
    "import numpy as np\n",
    "from sklearn.feature_selection import SelectKBest, chi2\n",
    "from sklearn.svm import SVC\n",
    "from sklearn.ensemble import RandomForestClassifier, VotingClassifier\n",
    "from sklearn.neighbors import KNeighborsClassifier\n",
    "from sklearn.pipeline import Pipeline\n",
    "from sklearn.model_selection import GridSearchCV\n",
    "from sklearn.metrics import accuracy_score\n",
    "from sklearn.preprocessing import LabelEncoder\n",
    "import matplotlib.pyplot as plt\n",
    "from sklearn.model_selection import learning_curve\n",
    "from sklearn.metrics import classification_report"
   ]
  },
  {
   "cell_type": "code",
   "execution_count": 11,
   "id": "d1452431",
   "metadata": {},
   "outputs": [
    {
     "data": {
      "text/html": [
       "<div>\n",
       "<style scoped>\n",
       "    .dataframe tbody tr th:only-of-type {\n",
       "        vertical-align: middle;\n",
       "    }\n",
       "\n",
       "    .dataframe tbody tr th {\n",
       "        vertical-align: top;\n",
       "    }\n",
       "\n",
       "    .dataframe thead th {\n",
       "        text-align: right;\n",
       "    }\n",
       "</style>\n",
       "<table border=\"1\" class=\"dataframe\">\n",
       "  <thead>\n",
       "    <tr style=\"text-align: right;\">\n",
       "      <th></th>\n",
       "      <th>class_name</th>\n",
       "      <th>text</th>\n",
       "    </tr>\n",
       "  </thead>\n",
       "  <tbody>\n",
       "    <tr>\n",
       "      <th>0</th>\n",
       "      <td>business</td>\n",
       "      <td>Lufthansa flies back to profit\\n\\nGerman airli...</td>\n",
       "    </tr>\n",
       "    <tr>\n",
       "      <th>1</th>\n",
       "      <td>business</td>\n",
       "      <td>Winn-Dixie files for bankruptcy\\n\\nUS supermar...</td>\n",
       "    </tr>\n",
       "    <tr>\n",
       "      <th>2</th>\n",
       "      <td>business</td>\n",
       "      <td>US economy still growing says Fed\\n\\nMost area...</td>\n",
       "    </tr>\n",
       "    <tr>\n",
       "      <th>3</th>\n",
       "      <td>business</td>\n",
       "      <td>Saab to build Cadillacs in Sweden\\n\\nGeneral M...</td>\n",
       "    </tr>\n",
       "    <tr>\n",
       "      <th>4</th>\n",
       "      <td>business</td>\n",
       "      <td>Bank voted 8-1 for no rate change\\n\\nThe decis...</td>\n",
       "    </tr>\n",
       "  </tbody>\n",
       "</table>\n",
       "</div>"
      ],
      "text/plain": [
       "  class_name                                               text\n",
       "0   business  Lufthansa flies back to profit\\n\\nGerman airli...\n",
       "1   business  Winn-Dixie files for bankruptcy\\n\\nUS supermar...\n",
       "2   business  US economy still growing says Fed\\n\\nMost area...\n",
       "3   business  Saab to build Cadillacs in Sweden\\n\\nGeneral M...\n",
       "4   business  Bank voted 8-1 for no rate change\\n\\nThe decis..."
      ]
     },
     "execution_count": 11,
     "metadata": {},
     "output_type": "execute_result"
    }
   ],
   "source": [
    "# read dataset \n",
    "data = pd.read_csv(\"data.csv\")\n",
    "data.head()"
   ]
  },
  {
   "cell_type": "code",
   "execution_count": null,
   "id": "ad04c31f",
   "metadata": {},
   "outputs": [],
   "source": []
  },
  {
   "cell_type": "markdown",
   "id": "66671179",
   "metadata": {},
   "source": [
    "# Data Processing "
   ]
  },
  {
   "cell_type": "markdown",
   "id": "925ee232",
   "metadata": {},
   "source": [
    "* The treatments listed below are used according to the methods presented in the following article."
   ]
  },
  {
   "cell_type": "code",
   "execution_count": 12,
   "id": "71a17cf7",
   "metadata": {},
   "outputs": [],
   "source": [
    "# Load the English spaCy model\n",
    "nlp: Language = spacy.load(\"en_core_web_sm\")\n",
    "\n",
    "# Define the list of stop words from the spaCy model\n",
    "stop_words = nlp.Defaults.stop_words\n",
    "\n",
    "def preprocess_text_spacy(text: str) -> str:\n",
    "    \"\"\"\n",
    "    Preprocesses a text using spaCy:\n",
    "    - Tokenization\n",
    "    - Lowercasing and punctuation removal\n",
    "    - Stop word removal\n",
    "    - Lemmatization\n",
    "    \"\"\"\n",
    "    # Initial processing to get tokens\n",
    "    doc = nlp(text)\n",
    "\n",
    "    # Keep only alphanumeric tokens and convert them to lowercase\n",
    "    tokens = [token.text.lower() for token in doc if token.text.isalnum()]\n",
    "\n",
    "    # Remove stop words\n",
    "    filtered_tokens = [token for token in tokens if token not in stop_words]\n",
    "\n",
    "    # Reprocess the cleaned text for lemmatization\n",
    "    cleaned_text = \" \".join(filtered_tokens)\n",
    "    doc_cleaned = nlp(cleaned_text)\n",
    "\n",
    "    # Extract lemmas\n",
    "    lemmatized_tokens = [token.lemma_ for token in doc_cleaned]\n",
    "\n",
    "    return \" \".join(lemmatized_tokens)\n"
   ]
  },
  {
   "cell_type": "code",
   "execution_count": 13,
   "id": "9a47fbdc",
   "metadata": {},
   "outputs": [],
   "source": [
    "data[\"text\"] = data[\"text\"].apply(preprocess_text_spacy)"
   ]
  },
  {
   "cell_type": "code",
   "execution_count": 14,
   "id": "62ee57c2",
   "metadata": {},
   "outputs": [
    {
     "data": {
      "text/html": [
       "<div>\n",
       "<style scoped>\n",
       "    .dataframe tbody tr th:only-of-type {\n",
       "        vertical-align: middle;\n",
       "    }\n",
       "\n",
       "    .dataframe tbody tr th {\n",
       "        vertical-align: top;\n",
       "    }\n",
       "\n",
       "    .dataframe thead th {\n",
       "        text-align: right;\n",
       "    }\n",
       "</style>\n",
       "<table border=\"1\" class=\"dataframe\">\n",
       "  <thead>\n",
       "    <tr style=\"text-align: right;\">\n",
       "      <th></th>\n",
       "      <th>class_name</th>\n",
       "      <th>text</th>\n",
       "    </tr>\n",
       "  </thead>\n",
       "  <tbody>\n",
       "    <tr>\n",
       "      <th>0</th>\n",
       "      <td>business</td>\n",
       "      <td>lufthansa fly profit german airline lufthansa ...</td>\n",
       "    </tr>\n",
       "    <tr>\n",
       "      <th>1</th>\n",
       "      <td>business</td>\n",
       "      <td>winn dixie file bankruptcy supermarket group w...</td>\n",
       "    </tr>\n",
       "    <tr>\n",
       "      <th>2</th>\n",
       "      <td>business</td>\n",
       "      <td>economy grow say fed area see economy continue...</td>\n",
       "    </tr>\n",
       "    <tr>\n",
       "      <th>3</th>\n",
       "      <td>business</td>\n",
       "      <td>saab build cadillacs sweden general motor worl...</td>\n",
       "    </tr>\n",
       "    <tr>\n",
       "      <th>4</th>\n",
       "      <td>business</td>\n",
       "      <td>bank vote 8 1 rate change decision interest ra...</td>\n",
       "    </tr>\n",
       "  </tbody>\n",
       "</table>\n",
       "</div>"
      ],
      "text/plain": [
       "  class_name                                               text\n",
       "0   business  lufthansa fly profit german airline lufthansa ...\n",
       "1   business  winn dixie file bankruptcy supermarket group w...\n",
       "2   business  economy grow say fed area see economy continue...\n",
       "3   business  saab build cadillacs sweden general motor worl...\n",
       "4   business  bank vote 8 1 rate change decision interest ra..."
      ]
     },
     "execution_count": 14,
     "metadata": {},
     "output_type": "execute_result"
    }
   ],
   "source": [
    "data.head()"
   ]
  },
  {
   "cell_type": "code",
   "execution_count": null,
   "id": "767c2841",
   "metadata": {},
   "outputs": [],
   "source": []
  },
  {
   "cell_type": "code",
   "execution_count": 15,
   "id": "c9accb38",
   "metadata": {},
   "outputs": [],
   "source": [
    "# Label Encoder\n",
    "encoder = LabelEncoder()\n",
    "data[\"digital_class\"] = encoder.fit_transform(data[\"class_name\"])"
   ]
  },
  {
   "cell_type": "code",
   "execution_count": null,
   "id": "9ebfaa03",
   "metadata": {},
   "outputs": [],
   "source": []
  },
  {
   "cell_type": "code",
   "execution_count": 16,
   "id": "0dca6dbd",
   "metadata": {},
   "outputs": [
    {
     "data": {
      "text/html": [
       "<div>\n",
       "<style scoped>\n",
       "    .dataframe tbody tr th:only-of-type {\n",
       "        vertical-align: middle;\n",
       "    }\n",
       "\n",
       "    .dataframe tbody tr th {\n",
       "        vertical-align: top;\n",
       "    }\n",
       "\n",
       "    .dataframe thead th {\n",
       "        text-align: right;\n",
       "    }\n",
       "</style>\n",
       "<table border=\"1\" class=\"dataframe\">\n",
       "  <thead>\n",
       "    <tr style=\"text-align: right;\">\n",
       "      <th></th>\n",
       "      <th>class_name</th>\n",
       "      <th>text</th>\n",
       "      <th>digital_class</th>\n",
       "    </tr>\n",
       "  </thead>\n",
       "  <tbody>\n",
       "    <tr>\n",
       "      <th>0</th>\n",
       "      <td>business</td>\n",
       "      <td>lufthansa fly profit german airline lufthansa ...</td>\n",
       "      <td>0</td>\n",
       "    </tr>\n",
       "    <tr>\n",
       "      <th>1</th>\n",
       "      <td>business</td>\n",
       "      <td>winn dixie file bankruptcy supermarket group w...</td>\n",
       "      <td>0</td>\n",
       "    </tr>\n",
       "    <tr>\n",
       "      <th>2</th>\n",
       "      <td>business</td>\n",
       "      <td>economy grow say fed area see economy continue...</td>\n",
       "      <td>0</td>\n",
       "    </tr>\n",
       "    <tr>\n",
       "      <th>3</th>\n",
       "      <td>business</td>\n",
       "      <td>saab build cadillacs sweden general motor worl...</td>\n",
       "      <td>0</td>\n",
       "    </tr>\n",
       "    <tr>\n",
       "      <th>4</th>\n",
       "      <td>business</td>\n",
       "      <td>bank vote 8 1 rate change decision interest ra...</td>\n",
       "      <td>0</td>\n",
       "    </tr>\n",
       "  </tbody>\n",
       "</table>\n",
       "</div>"
      ],
      "text/plain": [
       "  class_name                                               text  digital_class\n",
       "0   business  lufthansa fly profit german airline lufthansa ...              0\n",
       "1   business  winn dixie file bankruptcy supermarket group w...              0\n",
       "2   business  economy grow say fed area see economy continue...              0\n",
       "3   business  saab build cadillacs sweden general motor worl...              0\n",
       "4   business  bank vote 8 1 rate change decision interest ra...              0"
      ]
     },
     "execution_count": 16,
     "metadata": {},
     "output_type": "execute_result"
    }
   ],
   "source": [
    "data.head()"
   ]
  },
  {
   "cell_type": "markdown",
   "id": "cc8c5521",
   "metadata": {},
   "source": [
    "# Data Splitting"
   ]
  },
  {
   "cell_type": "code",
   "execution_count": 17,
   "id": "b618afa7",
   "metadata": {},
   "outputs": [],
   "source": [
    "X_train, X_test, y_train, y_test = train_test_split(data[\"text\"], data[\"digital_class\"], test_size=0.2)"
   ]
  },
  {
   "cell_type": "code",
   "execution_count": null,
   "id": "17661b4d",
   "metadata": {},
   "outputs": [],
   "source": []
  },
  {
   "cell_type": "markdown",
   "id": "e5c5bb00",
   "metadata": {},
   "source": [
    "# Feature Extraction"
   ]
  },
  {
   "cell_type": "code",
   "execution_count": 18,
   "id": "6024a49e",
   "metadata": {},
   "outputs": [
    {
     "data": {
      "text/plain": [
       "(800, 500)"
      ]
     },
     "execution_count": 18,
     "metadata": {},
     "output_type": "execute_result"
    }
   ],
   "source": [
    "\n",
    "\n",
    "vectorizer = TfidfVectorizer(max_features = 500)\n",
    "vectorizer.fit(X_train)\n",
    "X_train_vec = vectorizer.transform(X_train)\n",
    "X_test_vec = vectorizer.transform(X_test)\n",
    "X_train_vec.shape"
   ]
  },
  {
   "cell_type": "code",
   "execution_count": null,
   "id": "f898c2eb",
   "metadata": {},
   "outputs": [],
   "source": []
  },
  {
   "cell_type": "markdown",
   "id": "6c46fdc9",
   "metadata": {},
   "source": [
    "# Modeling and Evaluation"
   ]
  },
  {
   "cell_type": "code",
   "execution_count": 19,
   "id": "a0d4c205",
   "metadata": {},
   "outputs": [],
   "source": [
    "def create_pipeline(model, k):\n",
    "    return Pipeline([\n",
    "        ('select', SelectKBest(score_func=chi2, k=k)),\n",
    "        ('clf', model)\n",
    "    ])\n"
   ]
  },
  {
   "cell_type": "code",
   "execution_count": 20,
   "id": "49260ed0",
   "metadata": {},
   "outputs": [],
   "source": [
    "def train_with_grid_search(X_train, y_train, X_test, y_test, model_name, k_values):\n",
    "    if model_name == 'svm':\n",
    "        model = SVC()\n",
    "        param_grid = {\n",
    "            'select__k': k_values,\n",
    "            'clf__C': [0.1, 1, 10],\n",
    "            'clf__kernel': ['linear', 'rbf']\n",
    "        }\n",
    "    elif model_name == 'rf':\n",
    "        model = RandomForestClassifier()\n",
    "        param_grid = {\n",
    "            'select__k': k_values,\n",
    "            'clf__n_estimators': [100, 200],\n",
    "            'clf__max_depth': [None, 10, 20]\n",
    "        }\n",
    "    elif model_name == 'knn':\n",
    "        model = KNeighborsClassifier()\n",
    "        param_grid = {\n",
    "            'select__k': k_values,\n",
    "            'clf__n_neighbors': [3, 5, 7],\n",
    "            'clf__weights': ['uniform', 'distance']\n",
    "        }\n",
    "    else:\n",
    "        raise ValueError(\"Modèle non reconnu\")\n",
    "\n",
    "    pipeline = create_pipeline(model, k=k_values[0])\n",
    "    grid = GridSearchCV(pipeline, param_grid, cv=5, scoring='accuracy', n_jobs=-1)\n",
    "    grid.fit(X_train, y_train)\n",
    "    print(f\"Best params for {model_name}: {grid.best_params_}\")\n",
    "    y_pred = grid.best_estimator_.predict(X_test)\n",
    "    print(f\"Accuracy for {model_name}: \", accuracy_score(y_test, y_pred))\n",
    "    return grid.best_estimator_\n"
   ]
  },
  {
   "cell_type": "code",
   "execution_count": 21,
   "id": "c0b0ab56",
   "metadata": {},
   "outputs": [],
   "source": [
    "def ensemble_voting(X_train, y_train, X_test, y_test, k_values):\n",
    "    svm_best = train_with_grid_search(X_train, y_train, X_test, y_test, 'svm', k_values)\n",
    "    rf_best = train_with_grid_search(X_train, y_train, X_test, y_test, 'rf', k_values)\n",
    "    knn_best = train_with_grid_search(X_train, y_train, X_test, y_test,'knn', k_values)\n",
    "\n",
    "    voting = VotingClassifier(estimators=[\n",
    "        ('svm', svm_best),\n",
    "        ('rf', rf_best),\n",
    "        ('knn', knn_best)\n",
    "    ], voting='hard')\n",
    "\n",
    "    voting.fit(X_train, y_train)\n",
    "    return voting\n"
   ]
  },
  {
   "cell_type": "code",
   "execution_count": 22,
   "id": "1609ecee",
   "metadata": {},
   "outputs": [
    {
     "name": "stdout",
     "output_type": "stream",
     "text": [
      "Best params for svm: {'clf__C': 1, 'clf__kernel': 'rbf', 'select__k': 500}\n",
      "Accuracy for svm:  0.925\n",
      "Best params for rf: {'clf__max_depth': None, 'clf__n_estimators': 200, 'select__k': 500}\n",
      "Accuracy for rf:  0.905\n",
      "Best params for knn: {'clf__n_neighbors': 7, 'clf__weights': 'distance', 'select__k': 500}\n",
      "Accuracy for knn:  0.88\n",
      "Accuracy: 0.92\n"
     ]
    }
   ],
   "source": [
    "# \n",
    "k_values = [100, 200, 300, 400, 500]\n",
    "final_model = ensemble_voting(X_train_vec, y_train, X_test_vec, y_test, k_values)\n",
    "\n",
    "# Prediction\n",
    "y_pred = final_model.predict(X_test_vec)\n",
    "print(\"Accuracy:\", accuracy_score(y_test, y_pred))\n"
   ]
  },
  {
   "cell_type": "code",
   "execution_count": 23,
   "id": "6893ef0c",
   "metadata": {},
   "outputs": [],
   "source": [
    "def plot_learning_curve(estimator, X, y, title=\"Learning Curve\", cv=5, scoring='accuracy'):\n",
    "    train_sizes, train_scores, val_scores = learning_curve(\n",
    "        estimator,\n",
    "        X, y,\n",
    "        cv=cv,\n",
    "        scoring=scoring,\n",
    "        n_jobs=-1,\n",
    "        train_sizes=np.linspace(0.1, 1.0, 5),\n",
    "        shuffle=True,\n",
    "        random_state=42\n",
    "    )\n",
    "\n",
    "    train_scores_mean = train_scores.mean(axis=1)\n",
    "    val_scores_mean = val_scores.mean(axis=1)\n",
    "\n",
    "    plt.figure(figsize=(8, 6))\n",
    "    \n",
    "    plt.plot(train_sizes, val_scores_mean, 'o-', color='green', label='Score de validation')\n",
    "    plt.title(title)\n",
    "    plt.xlabel(\"Training sample size\")\n",
    "    plt.ylabel(\"Score\")\n",
    "    plt.legend(loc=\"best\")\n",
    "    plt.grid()\n",
    "    plt.tight_layout()\n",
    "    plt.show()\n"
   ]
  },
  {
   "cell_type": "code",
   "execution_count": 24,
   "id": "9fdba769",
   "metadata": {},
   "outputs": [
    {
     "data": {
      "image/png": "[encoded data removed]",
      "text/plain": [
       "<Figure size 800x600 with 1 Axes>"
      ]
     },
     "metadata": {},
     "output_type": "display_data"
    }
   ],
   "source": [
    "plot_learning_curve(final_model, X_train_vec, y_train, title=\"Learning Curve - VotingClassifier\")\n"
   ]
  },
  {
   "cell_type": "code",
   "execution_count": 25,
   "id": "349f8790",
   "metadata": {},
   "outputs": [
    {
     "name": "stdout",
     "output_type": "stream",
     "text": [
      "              precision    recall  f1-score   support\n",
      "\n",
      "           0       0.87      0.87      0.87        15\n",
      "           1       0.93      1.00      0.97        14\n",
      "           2       0.83      0.95      0.89        21\n",
      "           3       0.91      1.00      0.95        20\n",
      "           4       0.95      1.00      0.98        20\n",
      "           5       0.90      0.93      0.91        28\n",
      "           6       0.93      0.88      0.90        16\n",
      "           7       0.89      0.76      0.82        21\n",
      "           8       1.00      0.92      0.96        25\n",
      "           9       1.00      0.90      0.95        20\n",
      "\n",
      "    accuracy                           0.92       200\n",
      "   macro avg       0.92      0.92      0.92       200\n",
      "weighted avg       0.92      0.92      0.92       200\n",
      "\n"
     ]
    }
   ],
   "source": [
    "print(classification_report(y_test,y_pred))"
   ]
  },
  {
   "cell_type": "markdown",
   "id": "87c657b7",
   "metadata": {},
   "source": [
    "#  Save Categories and Model"
   ]
  },
  {
   "cell_type": "code",
   "execution_count": 26,
   "id": "d5c8ae5a",
   "metadata": {},
   "outputs": [],
   "source": [
    "import json\n",
    "\n",
    "\n",
    "\n",
    "category_dict = {i: cat for i, cat in enumerate(list(encoder.classes_))}\n",
    "\n",
    "# Sauvegarder dans un fichier JSON\n",
    "with open(\"label_mapping.json\", \"w\", encoding='utf-8') as f:\n",
    "    json.dump(category_dict, f, ensure_ascii=False, indent=4)\n"
   ]
  },
  {
   "cell_type": "code",
   "execution_count": 27,
   "id": "9f9ce3c4",
   "metadata": {},
   "outputs": [
    {
     "data": {
      "text/plain": [
       "['svm_model.joblib']"
      ]
     },
     "execution_count": 27,
     "metadata": {},
     "output_type": "execute_result"
    }
   ],
   "source": [
    "from joblib import dump\n",
    "\n",
    "\n",
    "\n",
    "dump(final_model, \"svm_model.joblib\")\n"
   ]
  },
  {
   "cell_type": "code",
   "execution_count": 28,
   "id": "294e5d15",
   "metadata": {},
   "outputs": [
    {
     "data": {
      "text/plain": [
       "['vectorizer_tfidf.joblib']"
      ]
     },
     "execution_count": 28,
     "metadata": {},
     "output_type": "execute_result"
    }
   ],
   "source": [
    "dump(vectorizer, \"vectorizer_tfidf.joblib\")"
   ]
  },
  {
   "cell_type": "code",
   "execution_count": null,
   "id": "90046837",
   "metadata": {},
   "outputs": [],
   "source": []
  }
 ],
 "metadata": {
  "kernelspec": {
   "display_name": "Python 3",
   "language": "python",
   "name": "python3"
  },
  "language_info": {
   "codemirror_mode": {
    "name": "ipython",
    "version": 3
   },
   "file_extension": ".py",
   "mimetype": "text/x-python",
   "name": "python",
   "nbconvert_exporter": "python",
   "pygments_lexer": "ipython3",
   "version": "3.11.5"
  }
 },
 "nbformat": 4,
 "nbformat_minor": 5
}
